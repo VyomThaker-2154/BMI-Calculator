{
 "cells": [
  {
   "cell_type": "markdown",
   "id": "c05ae4bd",
   "metadata": {},
   "source": [
    "# BMI Calculator"
   ]
  },
  {
   "cell_type": "markdown",
   "id": "088f4f31",
   "metadata": {},
   "source": [
    "Under 18.5\t:    Underweight\tMinimal\n",
    "\n",
    "18.5 - 24.9 :\tNormal Weight\tMinimal\n",
    "\n",
    "25 - 29.9\t:   Overweight\tIncreased\n",
    "\n",
    "30 - 34.9\t:    Obese\tHigh\n",
    "\n",
    "35 - 39.9\t :   Severely Obese\tVery High\n",
    "\n",
    "40 and over\t  :  Morbidly Obese\tExtremely High"
   ]
  },
  {
   "cell_type": "code",
   "execution_count": 5,
   "id": "b27dcc79",
   "metadata": {},
   "outputs": [
    {
     "name": "stdout",
     "output_type": "stream",
     "text": [
      "Enter you name: Vyom Thaker\n",
      "Enter your weight in Kilograms(Kgs): 55\n",
      "Enter your height in Centimeter(cm): 169\n",
      "19.257028815517668\n",
      "Vyom Thaker, you are normal weight.\n"
     ]
    }
   ],
   "source": [
    "name = input(\"Enter you name: \")\n",
    "\n",
    "weight = int(input(\"Enter your weight in Kilograms(Kgs): \"))\n",
    "\n",
    "height = int(input(\"Enter your height in Centimeter(cm): \"))\n",
    "\n",
    "BMI = weight / (height/100)**2\n",
    "\n",
    "print(BMI)\n",
    "\n",
    "if BMI>0:\n",
    "    if(BMI<18.5):\n",
    "        print(name +\", you are underwight.\")\n",
    "    elif (BMI<=24.9):\n",
    "        print(name +\", you are normal weight.\")\n",
    "    elif (BMI<29.9):\n",
    "        print(name +\", you are overweight. You need to exercise more and stop sitting and writing so many python tutorials.\")\n",
    "    elif (BMI<34.9):\n",
    "        print(name +\", you are obese.\")\n",
    "    elif (BMI<39.9):\n",
    "        print(name +\", you are severely obese.\")\n",
    "    else:\n",
    "        print(name +\", you are morbidly obese.\")\n",
    "else:\n",
    "    print(\"Enter valid input\")"
   ]
  }
 ],
 "metadata": {
  "kernelspec": {
   "display_name": "Python 3 (ipykernel)",
   "language": "python",
   "name": "python3"
  },
  "language_info": {
   "codemirror_mode": {
    "name": "ipython",
    "version": 3
   },
   "file_extension": ".py",
   "mimetype": "text/x-python",
   "name": "python",
   "nbconvert_exporter": "python",
   "pygments_lexer": "ipython3",
   "version": "3.11.5"
  }
 },
 "nbformat": 4,
 "nbformat_minor": 5
}
